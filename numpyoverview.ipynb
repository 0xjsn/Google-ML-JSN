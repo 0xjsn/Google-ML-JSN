{
 "cells": [
  {
   "cell_type": "markdown",
   "metadata": {},
   "source": [
    "Foundationally, we are building arrays using the numpy library\n",
    "We can use the np.array method to create the array"
   ]
  },
  {
   "cell_type": "code",
   "execution_count": 3,
   "metadata": {},
   "outputs": [],
   "source": [
    "import numpy as np"
   ]
  },
  {
   "cell_type": "code",
   "execution_count": 4,
   "metadata": {},
   "outputs": [
    {
     "name": "stdout",
     "output_type": "stream",
     "text": [
      "[1 2 3 4]\n"
     ]
    }
   ],
   "source": [
    "one_dimension = np.array([1, 2, 3, 4])\n",
    "print(one_dimension)"
   ]
  },
  {
   "cell_type": "code",
   "execution_count": 5,
   "metadata": {},
   "outputs": [
    {
     "name": "stdout",
     "output_type": "stream",
     "text": [
      "[[2 4 5]\n",
      " [7 8 9]]\n"
     ]
    }
   ],
   "source": [
    "two_dimensions = np.array([[2,4,5],[7,8,9]])\n",
    "print(two_dimensions)"
   ]
  },
  {
   "cell_type": "markdown",
   "metadata": {},
   "source": [
    "we can use np.zeros to create an array of zeros with different dimensions"
   ]
  },
  {
   "cell_type": "code",
   "execution_count": 6,
   "metadata": {},
   "outputs": [
    {
     "name": "stdout",
     "output_type": "stream",
     "text": [
      "[0. 0. 0. 0. 0.]\n"
     ]
    }
   ],
   "source": [
    "zeros = np.zeros(5)\n",
    "print(zeros)"
   ]
  },
  {
   "cell_type": "markdown",
   "metadata": {},
   "source": [
    "we can also create a two dimensional matrix of zeros"
   ]
  },
  {
   "cell_type": "code",
   "execution_count": 7,
   "metadata": {},
   "outputs": [
    {
     "name": "stdout",
     "output_type": "stream",
     "text": [
      "[[0. 0.]\n",
      " [0. 0.]\n",
      " [0. 0.]\n",
      " [0. 0.]\n",
      " [0. 0.]]\n"
     ]
    }
   ],
   "source": [
    "zeros_two = np.zeros((5,2))\n",
    "print(zeros_two)"
   ]
  },
  {
   "cell_type": "markdown",
   "metadata": {},
   "source": [
    "we can use the np.arange method to create a range of numbers\n",
    "in the (), we start at the first integer and go up to but not include the second integer\n",
    "so (5,10) would be the range of 5 to 9"
   ]
  },
  {
   "cell_type": "code",
   "execution_count": 8,
   "metadata": {},
   "outputs": [
    {
     "name": "stdout",
     "output_type": "stream",
     "text": [
      "[5 6 7 8 9]\n"
     ]
    }
   ],
   "source": [
    "range_one = np.arange(5,10) \n",
    "print(range_one)"
   ]
  },
  {
   "cell_type": "markdown",
   "metadata": {},
   "source": [
    "we can also create a matrix of random numbers using the random.randint method\n",
    "where low = lowest number possible, high = highest number possible, and size = the size of the array"
   ]
  },
  {
   "cell_type": "code",
   "execution_count": 9,
   "metadata": {},
   "outputs": [
    {
     "name": "stdout",
     "output_type": "stream",
     "text": [
      "[81 89 57 86 56 72 83 73]\n"
     ]
    }
   ],
   "source": [
    "random_nums = np.random.randint(low=50, high=100, size = (8))\n",
    "print(random_nums)"
   ]
  },
  {
   "cell_type": "markdown",
   "metadata": {},
   "source": [
    "we can also create an array of float numbers using the random.random() method - these numbers are between 0 and 1 \n"
   ]
  },
  {
   "cell_type": "code",
   "execution_count": null,
   "metadata": {},
   "outputs": [],
   "source": []
  },
  {
   "cell_type": "code",
   "execution_count": 10,
   "metadata": {},
   "outputs": [
    {
     "name": "stdout",
     "output_type": "stream",
     "text": [
      "[0.45520162 0.92888295 0.77645678 0.89425798 0.69066346 0.67076792\n",
      " 0.96810981 0.39422219 0.70824585 0.97423442 0.77876478 0.88692671\n",
      " 0.89980538 0.81378911]\n"
     ]
    }
   ],
   "source": [
    "random_floats = np.random.random(size=(14))\n",
    "print(random_floats)"
   ]
  },
  {
   "cell_type": "markdown",
   "metadata": {},
   "source": [
    "we can add numbers to the randomized array \n",
    "..say we want to add the number 2 to each number in the array, so the array will have numbers between 0 and 3"
   ]
  },
  {
   "cell_type": "code",
   "execution_count": 11,
   "metadata": {},
   "outputs": [
    {
     "name": "stdout",
     "output_type": "stream",
     "text": [
      "[2.45520162 2.92888295 2.77645678 2.89425798 2.69066346 2.67076792\n",
      " 2.96810981 2.39422219 2.70824585 2.97423442 2.77876478 2.88692671\n",
      " 2.89980538 2.81378911]\n"
     ]
    }
   ],
   "source": [
    "random_floats_2 = random_floats + 2\n",
    "print(random_floats_2)"
   ]
  },
  {
   "cell_type": "markdown",
   "metadata": {},
   "source": [
    "and the same thing can be done with multiplication\n",
    "say we want to multiple by 3 "
   ]
  },
  {
   "cell_type": "code",
   "execution_count": 12,
   "metadata": {},
   "outputs": [
    {
     "name": "stdout",
     "output_type": "stream",
     "text": [
      "[1.36560486 2.78664885 2.32937034 2.68277395 2.07199037 2.01230376\n",
      " 2.90432942 1.18266658 2.12473755 2.92270327 2.33629433 2.66078014\n",
      " 2.69941613 2.44136734]\n"
     ]
    }
   ],
   "source": [
    "random_floats_3 = random_floats * 3\n",
    "print(random_floats_3)"
   ]
  },
  {
   "cell_type": "markdown",
   "metadata": {},
   "source": [
    "lets make an array of random integers between 0 and 50, and then create another array multiplying those numbers by 3"
   ]
  },
  {
   "cell_type": "code",
   "execution_count": 16,
   "metadata": {},
   "outputs": [
    {
     "name": "stdout",
     "output_type": "stream",
     "text": [
      "[33 12 41 29  3 19 34 33 11  3 15 49 17 34 42 34  5 23  4 25 49 48 23 41\n",
      " 26  4 35  3 23 11 33  7  8 42 18 39 12  2 19 15]\n",
      "line\n",
      "[ 99  36 123  87   9  57 102  99  33   9  45 147  51 102 126 102  15  69\n",
      "  12  75 147 144  69 123  78  12 105   9  69  33  99  21  24 126  54 117\n",
      "  36   6  57  45]\n"
     ]
    }
   ],
   "source": [
    "random_integers = np.random.randint(low=0, high=50, size = 40)\n",
    "random_integers_x3 = random_integers * 3\n",
    "print(random_integers)\n",
    "print('line')\n",
    "print(random_integers_x3)"
   ]
  },
  {
   "cell_type": "markdown",
   "metadata": {},
   "source": [
    "Task 1:\n",
    "Your goal is to create a simple dataset consisting of a single feature and a label as follows:\n",
    "Assign a sequence of integers from 6 to 20 (inclusive) to a NumPy array named feature.\n",
    "Assign 15 values to a NumPy array named label such that:"
   ]
  },
  {
   "cell_type": "code",
   "execution_count": 20,
   "metadata": {},
   "outputs": [
    {
     "name": "stdout",
     "output_type": "stream",
     "text": [
      "[ 6  7  8  9 10 11 12 13 14 15 16 17 18 19 20]\n",
      "[22 25 28 31 34 37 40 43 46 49 52 55 58 61 64]\n"
     ]
    }
   ],
   "source": [
    "feature = np.arange(6,21)\n",
    "print(feature)\n",
    "label = (feature * 3) + 4\n",
    "print(label)"
   ]
  },
  {
   "cell_type": "markdown",
   "metadata": {},
   "source": [
    "Task 2: To make your dataset a little more realistic, insert a little random noise into each element of the label array you already created. To be more precise, modify each value assigned to label by adding a different random floating-point value between -2 and +2.\n",
    "Don't rely on broadcasting. Instead, create a noise array having the same dimension as label."
   ]
  },
  {
   "cell_type": "code",
   "execution_count": 23,
   "metadata": {},
   "outputs": [
    {
     "name": "stdout",
     "output_type": "stream",
     "text": [
      "[22.30142344 23.36852819 29.69201711 30.4474863  33.5147878  38.04771485\n",
      " 40.69797023 42.85527381 47.86198074 48.03146912 50.00553364 53.27849531\n",
      " 57.07041905 60.26472939 65.33073746]\n"
     ]
    }
   ],
   "source": [
    "noise = label + np.random.random(15) + np.random.randint(low=-2, high=2, size = 15)\n",
    "print(noise)"
   ]
  },
  {
   "cell_type": "code",
   "execution_count": null,
   "metadata": {},
   "outputs": [],
   "source": []
  }
 ],
 "metadata": {
  "kernelspec": {
   "display_name": "Python 3.7.4 ('base')",
   "language": "python",
   "name": "python3"
  },
  "language_info": {
   "codemirror_mode": {
    "name": "ipython",
    "version": 3
   },
   "file_extension": ".py",
   "mimetype": "text/x-python",
   "name": "python",
   "nbconvert_exporter": "python",
   "pygments_lexer": "ipython3",
   "version": "3.7.4"
  },
  "orig_nbformat": 4,
  "vscode": {
   "interpreter": {
    "hash": "a64b6c1ff3a0d441186e62361c2d251b8aa3119ace32331dc21aa42c8a27f264"
   }
  }
 },
 "nbformat": 4,
 "nbformat_minor": 2
}
