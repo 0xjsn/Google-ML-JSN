{
 "cells": [
  {
   "cell_type": "code",
   "execution_count": 3,
   "id": "53118eb2",
   "metadata": {},
   "outputs": [],
   "source": [
    "import numpy as np"
   ]
  },
  {
   "cell_type": "code",
   "execution_count": 4,
   "id": "4c8ded68",
   "metadata": {},
   "outputs": [],
   "source": [
    "import pandas as pd"
   ]
  },
  {
   "cell_type": "markdown",
   "id": "0ca0fd5a",
   "metadata": {},
   "source": [
    "we can create arrays as rows and columns, and create column headers as a simple list. \n",
    "\n",
    "then we can create a dataframe joining the rows and columns using the pd.DataFrame(data = , columns = ) construct"
   ]
  },
  {
   "cell_type": "code",
   "execution_count": 5,
   "id": "ebe00ce8",
   "metadata": {},
   "outputs": [],
   "source": [
    "#so let's create an array, 3,3\n",
    "new_array = np.array([[3,6,9],[12,15,18], [21, 24, 27]])\n",
    "headers = ['column 1', 'column 2', 'column 3']\n",
    "my_dataframe = pd.DataFrame(data = new_array, columns = headers)"
   ]
  },
  {
   "cell_type": "code",
   "execution_count": 11,
   "id": "909847e4",
   "metadata": {},
   "outputs": [
    {
     "name": "stdout",
     "output_type": "stream",
     "text": [
      "   column 1  column 2  column 3\n",
      "0         3         6         9\n",
      "1        12        15        18\n",
      "2        21        24        27\n"
     ]
    }
   ],
   "source": [
    "print(my_dataframe)"
   ]
  },
  {
   "cell_type": "code",
   "execution_count": 12,
   "id": "39a23d78",
   "metadata": {},
   "outputs": [
    {
     "data": {
      "text/html": [
       "<div>\n",
       "<style scoped>\n",
       "    .dataframe tbody tr th:only-of-type {\n",
       "        vertical-align: middle;\n",
       "    }\n",
       "\n",
       "    .dataframe tbody tr th {\n",
       "        vertical-align: top;\n",
       "    }\n",
       "\n",
       "    .dataframe thead th {\n",
       "        text-align: right;\n",
       "    }\n",
       "</style>\n",
       "<table border=\"1\" class=\"dataframe\">\n",
       "  <thead>\n",
       "    <tr style=\"text-align: right;\">\n",
       "      <th></th>\n",
       "      <th>column 1</th>\n",
       "      <th>column 2</th>\n",
       "      <th>column 3</th>\n",
       "    </tr>\n",
       "  </thead>\n",
       "  <tbody>\n",
       "    <tr>\n",
       "      <th>0</th>\n",
       "      <td>3</td>\n",
       "      <td>6</td>\n",
       "      <td>9</td>\n",
       "    </tr>\n",
       "    <tr>\n",
       "      <th>1</th>\n",
       "      <td>12</td>\n",
       "      <td>15</td>\n",
       "      <td>18</td>\n",
       "    </tr>\n",
       "    <tr>\n",
       "      <th>2</th>\n",
       "      <td>21</td>\n",
       "      <td>24</td>\n",
       "      <td>27</td>\n",
       "    </tr>\n",
       "  </tbody>\n",
       "</table>\n",
       "</div>"
      ],
      "text/plain": [
       "   column 1  column 2  column 3\n",
       "0         3         6         9\n",
       "1        12        15        18\n",
       "2        21        24        27"
      ]
     },
     "execution_count": 12,
     "metadata": {},
     "output_type": "execute_result"
    }
   ],
   "source": [
    "my_dataframe"
   ]
  },
  {
   "cell_type": "code",
   "execution_count": 13,
   "id": "7f3875ce",
   "metadata": {},
   "outputs": [],
   "source": [
    "#we can add a new column to the dataframe by putting hte new column name in brackets\n",
    "my_dataframe['column 4'] = [30, 33, 36]"
   ]
  },
  {
   "cell_type": "code",
   "execution_count": 14,
   "id": "70060a3a",
   "metadata": {},
   "outputs": [
    {
     "data": {
      "text/html": [
       "<div>\n",
       "<style scoped>\n",
       "    .dataframe tbody tr th:only-of-type {\n",
       "        vertical-align: middle;\n",
       "    }\n",
       "\n",
       "    .dataframe tbody tr th {\n",
       "        vertical-align: top;\n",
       "    }\n",
       "\n",
       "    .dataframe thead th {\n",
       "        text-align: right;\n",
       "    }\n",
       "</style>\n",
       "<table border=\"1\" class=\"dataframe\">\n",
       "  <thead>\n",
       "    <tr style=\"text-align: right;\">\n",
       "      <th></th>\n",
       "      <th>column 1</th>\n",
       "      <th>column 2</th>\n",
       "      <th>column 3</th>\n",
       "      <th>column 4</th>\n",
       "    </tr>\n",
       "  </thead>\n",
       "  <tbody>\n",
       "    <tr>\n",
       "      <th>0</th>\n",
       "      <td>3</td>\n",
       "      <td>6</td>\n",
       "      <td>9</td>\n",
       "      <td>30</td>\n",
       "    </tr>\n",
       "    <tr>\n",
       "      <th>1</th>\n",
       "      <td>12</td>\n",
       "      <td>15</td>\n",
       "      <td>18</td>\n",
       "      <td>33</td>\n",
       "    </tr>\n",
       "    <tr>\n",
       "      <th>2</th>\n",
       "      <td>21</td>\n",
       "      <td>24</td>\n",
       "      <td>27</td>\n",
       "      <td>36</td>\n",
       "    </tr>\n",
       "  </tbody>\n",
       "</table>\n",
       "</div>"
      ],
      "text/plain": [
       "   column 1  column 2  column 3  column 4\n",
       "0         3         6         9        30\n",
       "1        12        15        18        33\n",
       "2        21        24        27        36"
      ]
     },
     "execution_count": 14,
     "metadata": {},
     "output_type": "execute_result"
    }
   ],
   "source": [
    "my_dataframe"
   ]
  },
  {
   "cell_type": "markdown",
   "id": "0848f669",
   "metadata": {},
   "source": [
    "Task 1\n",
    "\n",
    "Do the following:\n",
    "Create an 3x4 (3 rows x 4 columns) pandas DataFrame in which the columns are named Eleanor, Chidi, Tahani, and Jason. Populate each of the 12 cells in the DataFrame with a random integer between 0 and 100, inclusive.\n",
    "Output the following:\n",
    "the entire DataFrame\n",
    "the value in the cell of row #1 of the Eleanor column\n",
    "Create a fifth column named Janet, which is populated with the row-by-row sums of Tahani and Jason."
   ]
  },
  {
   "cell_type": "code",
   "execution_count": 15,
   "id": "951d4f6e",
   "metadata": {},
   "outputs": [],
   "source": [
    "names_columns = ['Eleanor', 'Chidi', 'Tahani', 'Jason']\n",
    "data_for_names = np.random.randint(low = 0, high = 100, size = (3,4))"
   ]
  },
  {
   "cell_type": "code",
   "execution_count": 16,
   "id": "474e5e0e",
   "metadata": {},
   "outputs": [],
   "source": [
    "data_frame = pd.DataFrame(data = data_for_names, columns = names_columns)"
   ]
  },
  {
   "cell_type": "code",
   "execution_count": 17,
   "id": "9b72885d",
   "metadata": {},
   "outputs": [
    {
     "data": {
      "text/html": [
       "<div>\n",
       "<style scoped>\n",
       "    .dataframe tbody tr th:only-of-type {\n",
       "        vertical-align: middle;\n",
       "    }\n",
       "\n",
       "    .dataframe tbody tr th {\n",
       "        vertical-align: top;\n",
       "    }\n",
       "\n",
       "    .dataframe thead th {\n",
       "        text-align: right;\n",
       "    }\n",
       "</style>\n",
       "<table border=\"1\" class=\"dataframe\">\n",
       "  <thead>\n",
       "    <tr style=\"text-align: right;\">\n",
       "      <th></th>\n",
       "      <th>Eleanor</th>\n",
       "      <th>Chidi</th>\n",
       "      <th>Tahani</th>\n",
       "      <th>Jason</th>\n",
       "    </tr>\n",
       "  </thead>\n",
       "  <tbody>\n",
       "    <tr>\n",
       "      <th>0</th>\n",
       "      <td>52</td>\n",
       "      <td>22</td>\n",
       "      <td>55</td>\n",
       "      <td>97</td>\n",
       "    </tr>\n",
       "    <tr>\n",
       "      <th>1</th>\n",
       "      <td>56</td>\n",
       "      <td>22</td>\n",
       "      <td>4</td>\n",
       "      <td>85</td>\n",
       "    </tr>\n",
       "    <tr>\n",
       "      <th>2</th>\n",
       "      <td>98</td>\n",
       "      <td>79</td>\n",
       "      <td>92</td>\n",
       "      <td>2</td>\n",
       "    </tr>\n",
       "  </tbody>\n",
       "</table>\n",
       "</div>"
      ],
      "text/plain": [
       "   Eleanor  Chidi  Tahani  Jason\n",
       "0       52     22      55     97\n",
       "1       56     22       4     85\n",
       "2       98     79      92      2"
      ]
     },
     "execution_count": 17,
     "metadata": {},
     "output_type": "execute_result"
    }
   ],
   "source": [
    "#the entire DataFrame\n",
    "data_frame"
   ]
  },
  {
   "cell_type": "code",
   "execution_count": 18,
   "id": "85c208e9",
   "metadata": {},
   "outputs": [
    {
     "data": {
      "text/plain": [
       "52"
      ]
     },
     "execution_count": 18,
     "metadata": {},
     "output_type": "execute_result"
    }
   ],
   "source": [
    "#the value in the cell of row #1 of the Eleanor column\n",
    "data_frame['Eleanor'][0]"
   ]
  },
  {
   "cell_type": "code",
   "execution_count": 19,
   "id": "999b5ead",
   "metadata": {},
   "outputs": [],
   "source": [
    "data_frame['Janet'] = data_frame['Tahani'][:] + data_frame['Jason'][:]\n",
    "#if jane"
   ]
  },
  {
   "cell_type": "code",
   "execution_count": 20,
   "id": "fa8d67d8",
   "metadata": {},
   "outputs": [
    {
     "data": {
      "text/html": [
       "<div>\n",
       "<style scoped>\n",
       "    .dataframe tbody tr th:only-of-type {\n",
       "        vertical-align: middle;\n",
       "    }\n",
       "\n",
       "    .dataframe tbody tr th {\n",
       "        vertical-align: top;\n",
       "    }\n",
       "\n",
       "    .dataframe thead th {\n",
       "        text-align: right;\n",
       "    }\n",
       "</style>\n",
       "<table border=\"1\" class=\"dataframe\">\n",
       "  <thead>\n",
       "    <tr style=\"text-align: right;\">\n",
       "      <th></th>\n",
       "      <th>Eleanor</th>\n",
       "      <th>Chidi</th>\n",
       "      <th>Tahani</th>\n",
       "      <th>Jason</th>\n",
       "      <th>Janet</th>\n",
       "    </tr>\n",
       "  </thead>\n",
       "  <tbody>\n",
       "    <tr>\n",
       "      <th>0</th>\n",
       "      <td>52</td>\n",
       "      <td>22</td>\n",
       "      <td>55</td>\n",
       "      <td>97</td>\n",
       "      <td>152</td>\n",
       "    </tr>\n",
       "    <tr>\n",
       "      <th>1</th>\n",
       "      <td>56</td>\n",
       "      <td>22</td>\n",
       "      <td>4</td>\n",
       "      <td>85</td>\n",
       "      <td>89</td>\n",
       "    </tr>\n",
       "    <tr>\n",
       "      <th>2</th>\n",
       "      <td>98</td>\n",
       "      <td>79</td>\n",
       "      <td>92</td>\n",
       "      <td>2</td>\n",
       "      <td>94</td>\n",
       "    </tr>\n",
       "  </tbody>\n",
       "</table>\n",
       "</div>"
      ],
      "text/plain": [
       "   Eleanor  Chidi  Tahani  Jason  Janet\n",
       "0       52     22      55     97    152\n",
       "1       56     22       4     85     89\n",
       "2       98     79      92      2     94"
      ]
     },
     "execution_count": 20,
     "metadata": {},
     "output_type": "execute_result"
    }
   ],
   "source": [
    "data_frame"
   ]
  },
  {
   "cell_type": "code",
   "execution_count": 21,
   "id": "02dc3905",
   "metadata": {},
   "outputs": [],
   "source": [
    "#we can copy a dataframe by referencing and setting a variable equal to the dataframe name - but referencing and making changes to one \n",
    "#we can use the pd.DataFrame.copy method - which makes a true independent copy\n"
   ]
  },
  {
   "cell_type": "code",
   "execution_count": 22,
   "id": "562a44b3",
   "metadata": {},
   "outputs": [],
   "source": [
    "#so in our example we can use \n",
    "df = pd.DataFrame.copy(data_frame)"
   ]
  },
  {
   "cell_type": "code",
   "execution_count": 23,
   "id": "1c64cfed",
   "metadata": {},
   "outputs": [
    {
     "data": {
      "text/html": [
       "<div>\n",
       "<style scoped>\n",
       "    .dataframe tbody tr th:only-of-type {\n",
       "        vertical-align: middle;\n",
       "    }\n",
       "\n",
       "    .dataframe tbody tr th {\n",
       "        vertical-align: top;\n",
       "    }\n",
       "\n",
       "    .dataframe thead th {\n",
       "        text-align: right;\n",
       "    }\n",
       "</style>\n",
       "<table border=\"1\" class=\"dataframe\">\n",
       "  <thead>\n",
       "    <tr style=\"text-align: right;\">\n",
       "      <th></th>\n",
       "      <th>Eleanor</th>\n",
       "      <th>Chidi</th>\n",
       "      <th>Tahani</th>\n",
       "      <th>Jason</th>\n",
       "      <th>Janet</th>\n",
       "    </tr>\n",
       "  </thead>\n",
       "  <tbody>\n",
       "    <tr>\n",
       "      <th>0</th>\n",
       "      <td>52</td>\n",
       "      <td>22</td>\n",
       "      <td>55</td>\n",
       "      <td>97</td>\n",
       "      <td>152</td>\n",
       "    </tr>\n",
       "    <tr>\n",
       "      <th>1</th>\n",
       "      <td>56</td>\n",
       "      <td>22</td>\n",
       "      <td>4</td>\n",
       "      <td>85</td>\n",
       "      <td>89</td>\n",
       "    </tr>\n",
       "    <tr>\n",
       "      <th>2</th>\n",
       "      <td>98</td>\n",
       "      <td>79</td>\n",
       "      <td>92</td>\n",
       "      <td>2</td>\n",
       "      <td>94</td>\n",
       "    </tr>\n",
       "  </tbody>\n",
       "</table>\n",
       "</div>"
      ],
      "text/plain": [
       "   Eleanor  Chidi  Tahani  Jason  Janet\n",
       "0       52     22      55     97    152\n",
       "1       56     22       4     85     89\n",
       "2       98     79      92      2     94"
      ]
     },
     "execution_count": 23,
     "metadata": {},
     "output_type": "execute_result"
    }
   ],
   "source": [
    "df"
   ]
  },
  {
   "cell_type": "code",
   "execution_count": 26,
   "id": "9db651ed",
   "metadata": {},
   "outputs": [
    {
     "data": {
      "text/html": [
       "<div>\n",
       "<style scoped>\n",
       "    .dataframe tbody tr th:only-of-type {\n",
       "        vertical-align: middle;\n",
       "    }\n",
       "\n",
       "    .dataframe tbody tr th {\n",
       "        vertical-align: top;\n",
       "    }\n",
       "\n",
       "    .dataframe thead th {\n",
       "        text-align: right;\n",
       "    }\n",
       "</style>\n",
       "<table border=\"1\" class=\"dataframe\">\n",
       "  <thead>\n",
       "    <tr style=\"text-align: right;\">\n",
       "      <th></th>\n",
       "      <th>Eleanor</th>\n",
       "      <th>Chidi</th>\n",
       "      <th>Tahani</th>\n",
       "      <th>Jason</th>\n",
       "      <th>Janet</th>\n",
       "    </tr>\n",
       "  </thead>\n",
       "  <tbody>\n",
       "    <tr>\n",
       "      <th>0</th>\n",
       "      <td>52</td>\n",
       "      <td>22</td>\n",
       "      <td>55</td>\n",
       "      <td>97</td>\n",
       "      <td>152</td>\n",
       "    </tr>\n",
       "    <tr>\n",
       "      <th>1</th>\n",
       "      <td>56</td>\n",
       "      <td>22</td>\n",
       "      <td>4</td>\n",
       "      <td>85</td>\n",
       "      <td>89</td>\n",
       "    </tr>\n",
       "    <tr>\n",
       "      <th>2</th>\n",
       "      <td>98</td>\n",
       "      <td>79</td>\n",
       "      <td>92</td>\n",
       "      <td>2</td>\n",
       "      <td>94</td>\n",
       "    </tr>\n",
       "  </tbody>\n",
       "</table>\n",
       "</div>"
      ],
      "text/plain": [
       "   Eleanor  Chidi  Tahani  Jason  Janet\n",
       "0       52     22      55     97    152\n",
       "1       56     22       4     85     89\n",
       "2       98     79      92      2     94"
      ]
     },
     "execution_count": 26,
     "metadata": {},
     "output_type": "execute_result"
    }
   ],
   "source": [
    "# Create a reference by assigning my_dataframe to a new variable.\n",
    "\n",
    "reference_df = data_frame\n",
    "reference_df"
   ]
  },
  {
   "cell_type": "code",
   "execution_count": 35,
   "id": "05b203ca",
   "metadata": {},
   "outputs": [
    {
     "name": "stdout",
     "output_type": "stream",
     "text": [
      "The first value under Tahini is 55 \n"
     ]
    }
   ],
   "source": [
    "# Print the starting value of a particular cell - lets say Chidi row 0\n",
    "reference_df['Chidi'][0] #[column][row]\n",
    "print('The first value under Tahani is %d ' % reference_df['Tahani'][0])"
   ]
  },
  {
   "cell_type": "code",
   "execution_count": 38,
   "id": "910da529",
   "metadata": {},
   "outputs": [
    {
     "name": "stdout",
     "output_type": "stream",
     "text": [
      "   Eleanor  Chidi  Tahani  Jason  Janet\n",
      "0       52     22      55     97    152\n",
      "1       56     22       4     85     89\n",
      "2       98     79       4      2     94\n",
      "   Eleanor  Chidi  Tahani  Jason  Janet\n",
      "0       52     22      55     97    152\n",
      "1       56     22       4     85     89\n",
      "2       98     79       4      2     94\n"
     ]
    }
   ],
   "source": [
    "# Modify a cell in df.\n",
    "reference_df['Tahani'][2] = 4\n",
    "print(reference_df)\n",
    "print(data_frame)"
   ]
  },
  {
   "cell_type": "code",
   "execution_count": 40,
   "id": "f5501619",
   "metadata": {},
   "outputs": [
    {
     "name": "stdout",
     "output_type": "stream",
     "text": [
      "   Eleanor  Chidi  Tahani  Jason  Janet\n",
      "0       52     22      55     97    152\n",
      "1       56     22       4     85     89\n",
      "2       98     79       4     55     94\n",
      "   Eleanor  Chidi  Tahani  Jason  Janet\n",
      "0       52     22      55     97    152\n",
      "1       56     22       4     85     89\n",
      "2       98     79       4     55     94\n"
     ]
    }
   ],
   "source": [
    "# Create a true copy of my_dataframe\n",
    "true_copy_df = pd.DataFrame.copy(data_frame)\n",
    "data_frame['Jason'][2] = 55 #change one cell \n",
    "print(true_copy_df) #print the true copy of the original dataframe\n",
    "print(data_frame)\n",
    "\n",
    "#look at the output of what we changed in the true copy vs the original - we retain the values in the true copy "
   ]
  },
  {
   "cell_type": "code",
   "execution_count": null,
   "id": "e2abde8a",
   "metadata": {},
   "outputs": [],
   "source": []
  }
 ],
 "metadata": {
  "kernelspec": {
   "display_name": "Python 3 (ipykernel)",
   "language": "python",
   "name": "python3"
  },
  "language_info": {
   "codemirror_mode": {
    "name": "ipython",
    "version": 3
   },
   "file_extension": ".py",
   "mimetype": "text/x-python",
   "name": "python",
   "nbconvert_exporter": "python",
   "pygments_lexer": "ipython3",
   "version": "3.10.9"
  }
 },
 "nbformat": 4,
 "nbformat_minor": 5
}
